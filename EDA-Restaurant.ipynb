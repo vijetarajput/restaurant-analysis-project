{
 "cells": [
  {
   "cell_type": "code",
   "execution_count": 63,
   "id": "ca2a4a6c-731e-463b-bdd1-eee88251c44a",
   "metadata": {},
   "outputs": [],
   "source": [
    "import pandas as pd"
   ]
  },
  {
   "cell_type": "markdown",
   "id": "e30a362b",
   "metadata": {},
   "source": [
    "## Importing, Understanding, and Inspecting Data:\n",
    "### 1.\tPerform preliminary data inspection and report the findings as the structure of the data, missing values, duplicates, etc.\n",
    "\n",
    "### 2. Based on the findings from the previous questions, identify duplicates and remove them"
   ]
  },
  {
   "cell_type": "code",
   "execution_count": 64,
   "id": "b3c9b334-5ef7-4935-83cf-cdd1e690fd1a",
   "metadata": {},
   "outputs": [],
   "source": [
    "data = pd.read_excel('Marketing-Data.xlsx')\n",
    "country = pd.read_excel(\"Marketing-Country.xlsx\")"
   ]
  },
  {
   "cell_type": "code",
   "execution_count": 65,
   "id": "95cb7c0a-95ea-4845-8469-d8b413114ef6",
   "metadata": {},
   "outputs": [],
   "source": [
    "print(\"Data Info: \",data.info())\n",
    "print(country.info())"
   ]
  },
  {
   "cell_type": "code",
   "execution_count": 66,
   "id": "108d93bf-9ff7-4f0f-ba99-c4f5df1f1763",
   "metadata": {},
   "outputs": [],
   "source": [
    "print(\"Is null: \",data.isnull().sum())"
   ]
  },
  {
   "cell_type": "code",
   "execution_count": 67,
   "id": "f58e2854-3d44-4006-893d-f480eaabc2a4",
   "metadata": {},
   "outputs": [],
   "source": [
    "data = data.dropna(subset=['Restaurant Name'])\n",
    "data['Cuisines'].fillna('Unknown', inplace=True)"
   ]
  },
  {
   "cell_type": "code",
   "execution_count": 68,
   "id": "8a8a34cf-153c-4567-ab03-874a53e53211",
   "metadata": {},
   "outputs": [],
   "source": [
    "print(data.isna().sum())\n",
    "\n",
    "print(\"Duplicated?\",data.duplicated().sum())"
   ]
  },
  {
   "cell_type": "code",
   "execution_count": 69,
   "id": "71ac9115-f814-4946-8af4-18e35abe884a",
   "metadata": {},
   "outputs": [],
   "source": [
    "country.isna().sum()"
   ]
  },
  {
   "cell_type": "code",
   "execution_count": 105,
   "id": "b13ba61c-443c-47cb-987e-729448816437",
   "metadata": {},
   "outputs": [],
   "source": [
    "print(\"Data shape:\", data.shape)\n",
    "print(\"Country shape:\", country.shape)"
   ]
  },
  {
   "cell_type": "code",
   "execution_count": 71,
   "id": "c9197896-341b-498b-83ed-1d28d418c2bb",
   "metadata": {},
   "outputs": [],
   "source": [
    "data = data.merge(country, on=\"Country Code\", how='left')"
   ]
  },
  {
   "cell_type": "code",
   "execution_count": 72,
   "id": "41be6cb1-20f4-4ad9-98cd-05f04d2a2bab",
   "metadata": {},
   "outputs": [],
   "source": [
    "data.describe()"
   ]
  },
  {
   "cell_type": "code",
   "execution_count": 73,
   "id": "57af7cad-c149-40ee-9174-20f42873e785",
   "metadata": {},
   "outputs": [],
   "source": [
    "data.info()"
   ]
  },
  {
   "cell_type": "markdown",
   "id": "cdca3330",
   "metadata": {},
   "source": [
    "## Performing EDA:\n",
    "### 3. Explore the geographical distribution of the restaurants and identify the cities with the maximum and minimum number of restaurants\n"
   ]
  },
  {
   "cell_type": "code",
   "execution_count": 74,
   "id": "d0187722",
   "metadata": {},
   "outputs": [],
   "source": [
    "city_count=data['City'].value_counts()\n",
    "print(city_count.head())\n",
    "print(city_count.tail())"
   ]
  },
  {
   "cell_type": "code",
   "execution_count": 106,
   "id": "9e147d4a",
   "metadata": {},
   "outputs": [],
   "source": [
    "max_city=city_count.idxmax()\n",
    "max_count=city_count.max()\n",
    "\n",
    "min_city = city_count.idxmin()\n",
    "min_count = city_count.min()\n",
    "\n",
    "print(f\"City with maximum restaurants: {max_city} : {max_count} restaurants\")\n",
    "print(f\"City with minimum restaurants: {min_city} : {min_count} restaurant\")"
   ]
  },
  {
   "cell_type": "markdown",
   "id": "f7628e99",
   "metadata": {},
   "source": [
    "### 4. Restaurant franchising is a thriving venture. So, it is very important to explore the franchise with most national presence"
   ]
  },
  {
   "cell_type": "code",
   "execution_count": 76,
   "id": "5b5d4fa9-9a80-4139-b64b-303f8b0d2d78",
   "metadata": {},
   "outputs": [],
   "source": [
    "# Count unique countries per restaurant franchise\n",
    "franchise_countries = data.groupby('Restaurant Name')['Country Code'].nunique()\n",
    "\n",
    "sorted_franchise_countries = franchise_countries.sort_values(ascending=False).reset_index(name=\"No. of countries\")\n",
    "\n",
    "#Top 10 franchises\n",
    "print(sorted_franchise_countries.head(10))"
   ]
  },
  {
   "cell_type": "markdown",
   "id": "befab5dc",
   "metadata": {},
   "source": [
    "### 5. Find out the ratio between restaurants that allow table booking vs. those that do not allow table booking"
   ]
  },
  {
   "cell_type": "code",
   "execution_count": 77,
   "id": "6120a5c7",
   "metadata": {},
   "outputs": [],
   "source": [
    "# Column : Has Table booking\n",
    "\n",
    "table_booking_counts = data['Has Table booking'].value_counts()\n",
    "print(table_booking_counts)"
   ]
  },
  {
   "cell_type": "code",
   "execution_count": 107,
   "id": "6f617654",
   "metadata": {},
   "outputs": [],
   "source": [
    "import math\n",
    "\n",
    "yes_count = table_booking_counts['Yes']\n",
    "no_count = table_booking_counts['No']\n",
    "\n",
    "# I will find greatest common divisor to find ratio\n",
    "gcd = math.gcd(yes_count, no_count)\n",
    "\n",
    "yes = yes_count // gcd\n",
    "no = no_count // gcd\n",
    "\n",
    "print(f\"Ratio : {yes} : {no}\")"
   ]
  },
  {
   "cell_type": "markdown",
   "id": "2ff91272",
   "metadata": {},
   "source": [
    "### 6. Find out the percentage of restaurants providing online delivery"
   ]
  },
  {
   "cell_type": "code",
   "execution_count": 79,
   "id": "d419bc00-b668-4164-a8a0-a90821bcc82f",
   "metadata": {},
   "outputs": [],
   "source": [
    "online_delivery_counts = data['Has Online delivery'].value_counts()\n",
    "print(online_delivery_counts)"
   ]
  },
  {
   "cell_type": "code",
   "execution_count": 108,
   "id": "841c77b6",
   "metadata": {},
   "outputs": [],
   "source": [
    "total = online_delivery_counts.sum()\n",
    "yes_count = online_delivery_counts['Yes']\n",
    "\n",
    "percentage = (yes_count / total) * 100\n",
    "\n",
    "print(f\"Percentage of restaurants with online delivery: {percentage:.2f}%\")"
   ]
  },
  {
   "cell_type": "markdown",
   "id": "bffcd120",
   "metadata": {},
   "source": [
    "### 7. Calculate the difference in number of votes for the restaurants that deliver and the restaurants that do not deliver"
   ]
  },
  {
   "cell_type": "code",
   "execution_count": 109,
   "id": "81d86f09-4f1f-444b-8b89-6ef6919853dc",
   "metadata": {},
   "outputs": [],
   "source": [
    "delivery_yes = data[data['Has Online delivery'] =='Yes']['Votes'].sum()\n",
    "delivery_no = data[data['Has Online delivery'] =='No']['Votes'].sum()\n",
    "\n",
    "print(f\"Difference in votes: {(delivery_no - delivery_yes)}\")"
   ]
  },
  {
   "cell_type": "markdown",
   "id": "3e580828",
   "metadata": {},
   "source": [
    "## Performing EDA:\n",
    "### 1. What are the top 10 cuisines served across cities?"
   ]
  },
  {
   "cell_type": "code",
   "execution_count": 82,
   "id": "9469d5ab-1813-4248-85aa-bc677ee5c4a2",
   "metadata": {},
   "outputs": [],
   "source": [
    "print(data['Cuisines'])"
   ]
  },
  {
   "cell_type": "code",
   "execution_count": 83,
   "id": "f156fb78-97d1-4888-968a-7a1f51daba21",
   "metadata": {},
   "outputs": [],
   "source": [
    "cuisine_exploded_list = data['Cuisines'].str.split(',').explode().str.strip()\n",
    "print(cuisine_exploded_list)"
   ]
  },
  {
   "cell_type": "code",
   "execution_count": 84,
   "id": "ea502842-baeb-4c36-9797-dfdc7aff6fa2",
   "metadata": {},
   "outputs": [],
   "source": [
    "#top 10 cuisines\n",
    "print(cuisine_exploded_list.value_counts().head(10))"
   ]
  },
  {
   "cell_type": "markdown",
   "id": "c5d56e21",
   "metadata": {},
   "source": [
    "### 2. What is the maximum and minimum number of cuisines that a restaurant serves? Also, which is the most served cuisine across the restaurant for each city?"
   ]
  },
  {
   "cell_type": "code",
   "execution_count": 85,
   "id": "3d99aa9c",
   "metadata": {},
   "outputs": [],
   "source": [
    "# Max num of cuisens\n",
    "# Min num of cuisens\n",
    "# Most served cuisene for each city"
   ]
  },
  {
   "cell_type": "code",
   "execution_count": 111,
   "id": "810496b5",
   "metadata": {},
   "outputs": [],
   "source": [
    "data['No of Cuisines'] = data['Cuisines'].str.split(',').apply(len)\n",
    "print(\"Maximum number of cuisines served by restaurants: \", data['No of Cuisines'].max())\n",
    "print(\"Minimum number of cuisines served by restaurants: \", data['No of Cuisines'].min())"
   ]
  },
  {
   "cell_type": "markdown",
   "id": "0c8a735e-c70b-422c-ba36-9d09eaaa8fb8",
   "metadata": {},
   "source": [
    "##### which is the most served cuisine across the restaurant for each city"
   ]
  },
  {
   "cell_type": "code",
   "execution_count": 112,
   "id": "f4704e1f-b2ca-4a63-a707-1d9208f16579",
   "metadata": {},
   "outputs": [],
   "source": [
    "data['Cuisines_list'] = data['Cuisines'].str.split(',')\n",
    "cuisines_exploded = data.explode('Cuisines_list')\n",
    "\n",
    "cuisine_counts = cuisines_exploded.groupby(['City', 'Cuisines_list']).size().reset_index(name='Count')\n",
    "print(cuisine_counts)"
   ]
  },
  {
   "cell_type": "code",
   "execution_count": 113,
   "id": "67f9e612-e19e-47ad-926b-c0c5b06d508c",
   "metadata": {},
   "outputs": [],
   "source": [
    "cuisine_counts_sorted = cuisine_counts.sort_values(['City', 'Count'], ascending=[True, False])\n",
    "print(cuisine_counts_sorted)"
   ]
  },
  {
   "cell_type": "code",
   "execution_count": 114,
   "id": "2e0d7e17-7fc9-47ec-a4bc-79ed68c1ac90",
   "metadata": {},
   "outputs": [],
   "source": [
    "#drop duplicate city names just to keep the highest served cuisine\n",
    "\n",
    "most_served_cuisines = cuisine_counts_sorted.drop_duplicates(subset=['City'], keep='first')\n",
    "print(most_served_cuisines)"
   ]
  },
  {
   "cell_type": "code",
   "execution_count": 90,
   "id": "c6ceec4c-a9ae-4bd6-aa1d-c84383258748",
   "metadata": {},
   "outputs": [],
   "source": [
    "data.info()"
   ]
  },
  {
   "cell_type": "markdown",
   "id": "8fd979de-40ac-418a-bc24-c51ba5cbb08f",
   "metadata": {},
   "source": [
    "### 3. What is the distribution cost across the restaurants?"
   ]
  },
  {
   "cell_type": "code",
   "execution_count": 115,
   "id": "bd7d717a-894b-478f-a5da-9528a16e4cbb",
   "metadata": {},
   "outputs": [],
   "source": [
    "print(\"Median:\",data['Average Cost for two'].median())\n",
    "print(data['Average Cost for two'].describe())"
   ]
  },
  {
   "cell_type": "code",
   "execution_count": 116,
   "id": "eda5eab5",
   "metadata": {},
   "outputs": [],
   "source": [
    "import matplotlib.pyplot as plt\n",
    "import seaborn as sns\n",
    "plt.figure(figsize=(10,6))\n",
    "sns.boxplot(x=data['Average Cost for two'])\n",
    "plt.title(\"Distribution of Restaurant Costs\")\n",
    "plt.show()"
   ]
  },
  {
   "cell_type": "markdown",
   "id": "849a2a1f",
   "metadata": {},
   "source": [
    "### 4. How ratings are distributed among the various factors?"
   ]
  },
  {
   "cell_type": "code",
   "execution_count": 93,
   "id": "6c9bd0b5-7a65-419d-bbed-55169e26e3e4",
   "metadata": {},
   "outputs": [],
   "source": [
    "# Rating distribution varios factors considered : \n",
    "# 1) Price Range\n",
    "# 2) Online Delivery Service by Restaurents\n",
    "# 3) Table Booking Service by Restaurents\n",
    "# 4) Cuisines served\n",
    "# 5) Number of Votes"
   ]
  },
  {
   "cell_type": "code",
   "execution_count": 94,
   "id": "dced7fbf-3ea3-45e3-8d17-55088d56445f",
   "metadata": {},
   "outputs": [],
   "source": [
    "# Aggregate Vs Price range of Restaurents\n",
    "sns.barplot(data=data, x='Price range', y='Aggregate rating')\n",
    "plt.title(\"Rating Vs Cost of Restaurents\")\n",
    "plt.show()"
   ]
  },
  {
   "cell_type": "code",
   "execution_count": 95,
   "id": "2cce4a33-6892-43d7-9835-fd5844f3596c",
   "metadata": {},
   "outputs": [],
   "source": [
    "# Rating Vs Online Delivery service by Restaurents\n",
    "import seaborn as sns\n",
    "sns.barplot(data=data, x='Has Online delivery', y='Aggregate rating')\n",
    "plt.title(\"Rating Vs Online delivery service\")\n",
    "plt.show()"
   ]
  },
  {
   "cell_type": "code",
   "execution_count": 96,
   "id": "2406315f-3bda-44c4-90ca-06470848e9e4",
   "metadata": {},
   "outputs": [],
   "source": [
    "# Rating Vs Table Booking service by Restaurents\n",
    "import seaborn as sns\n",
    "sns.barplot(data=data, x='Has Table booking', y='Aggregate rating')\n",
    "plt.title(\"Rating Vs Table booking service\")\n",
    "plt.show()"
   ]
  },
  {
   "cell_type": "code",
   "execution_count": 97,
   "id": "cac0474f-3cc0-47b5-870e-3551e89a939e",
   "metadata": {},
   "outputs": [],
   "source": [
    "# Rating Vs Total number of Cuisines"
   ]
  },
  {
   "cell_type": "code",
   "execution_count": 98,
   "id": "d16bc6a9-110e-4338-b842-e83fb051c898",
   "metadata": {},
   "outputs": [],
   "source": [
    "print(data['No of Cuisines'].value_counts())"
   ]
  },
  {
   "cell_type": "code",
   "execution_count": 99,
   "id": "50fc87b3-8e9b-4afd-bc30-a39440bf5b06",
   "metadata": {},
   "outputs": [],
   "source": [
    "cuisine_rating = data.groupby('No of Cuisines')['Aggregate rating'].mean()\n",
    "print(cuisine_rating)"
   ]
  },
  {
   "cell_type": "code",
   "execution_count": 100,
   "id": "8602748e-96cf-4570-82e1-bf9e65aa4086",
   "metadata": {},
   "outputs": [],
   "source": [
    "cuisine_rating.plot(kind='bar', title='Average Rating vs Number of Cuisines')\n",
    "plt.ylabel('Average Rating')\n",
    "plt.show()"
   ]
  },
  {
   "cell_type": "code",
   "execution_count": 101,
   "id": "20a0cc2d-351c-4c41-a62a-43c4825f7f1d",
   "metadata": {},
   "outputs": [],
   "source": [
    "# Rating Vs Votes\n",
    "plt.figure(figsize=(10, 8))  \n",
    "sns.scatterplot(data=data, x='Votes', y='Aggregate rating')\n",
    "plt.title(\"Rating vs Number of Votes\")\n",
    "plt.xlabel(\"Votes\")\n",
    "plt.ylabel(\"Aggregate Rating\")\n",
    "plt.show()"
   ]
  },
  {
   "cell_type": "markdown",
   "id": "8003ed58-efbe-4b02-8376-ccf7bf69b2fe",
   "metadata": {},
   "source": [
    "## 5. Explain the factors in the data that may have an effect on ratings. For example, number of cuisines, cost, delivery option, etc."
   ]
  },
  {
   "cell_type": "code",
   "execution_count": 102,
   "id": "f304e42c-c7c9-4bf3-8c64-e05899108e63",
   "metadata": {},
   "outputs": [],
   "source": [
    "# Rating distribution varios factors considered : \n",
    "# 1) Price Range\n",
    "# 2) Services given by Restaurents\n",
    "# 3) Cuisines served\n",
    "# 4) Number of Votes"
   ]
  },
  {
   "cell_type": "code",
   "execution_count": 103,
   "id": "783d0aa8-a9c9-4d29-a25a-05108b3fe37c",
   "metadata": {},
   "outputs": [],
   "source": [
    "\"\"\"\n",
    "Impact of Price Range on Ratings\n",
    "Restaurants with a higher price range (3 and 4) generally have higher average ratings compared to those in\n",
    "lower price brackets (1 and 2).\n",
    "\n",
    "A possible reason is that higher-priced restaurants often provide better food quality, superior ambiance,\n",
    "and premium customer service, which positively influences customer satisfaction and ratings.\n",
    "\n",
    "\n",
    "Impact of Table Booking Service on Ratings\n",
    "Restaurants that offer table booking options tend to receive higher ratings compared to those that do not.\n",
    "\n",
    "The availability of table booking reduces waiting time and improves customer experience,\n",
    "which may lead to more favorable ratings.\n",
    "\n",
    "\n",
    "Impact of Number of Cuisines Served on Ratings\n",
    "There appears to be a correlation between the number of cuisines served and restaurant ratings.\n",
    "\n",
    "Restaurants offering a wider variety of cuisines may attract more customers and meet diverse preferences,\n",
    "contributing to higher ratings.\n",
    "\n",
    "\n",
    "Impact of Number of Votes on Ratings\n",
    "The majority of restaurants get votes mostly under 6000, Only a small number of popular restaurants have large vote\n",
    "counts above 6000.\n",
    "\n",
    "We can conclude that many restaurants have low-to-medium votes, very few have extremely high votes.\n",
    "\"\"\""
   ]
  },
  {
   "cell_type": "code",
   "execution_count": 104,
   "id": "b4370f90-5862-46a3-86c5-7e74ffaceed5",
   "metadata": {},
   "outputs": [],
   "source": [
    "\"\"\"\n",
    "Dashboarding:\n",
    "6. Visualize the variables using Tableau to help user explore the data and create a better understanding of\n",
    "    the restaurants to identify the ‘’star’’ restaurant\n",
    "    \n",
    "7. Demonstrate the variables associated with each other and factors to build a dashboard\n",
    "\n",
    "\"\"\""
   ]
  },
  {
   "cell_type": "code",
   "execution_count": null,
   "id": "df449664-35cf-40af-b00c-533766a4c4aa",
   "metadata": {},
   "outputs": [],
   "source": []
  }
 ],
 "metadata": {
  "kernelspec": {
   "display_name": "Python 3 [3.10]",
   "language": "python",
   "name": "python3"
  },
  "language_info": {
   "codemirror_mode": {
    "name": "ipython",
    "version": 3
   },
   "file_extension": ".py",
   "mimetype": "text/x-python",
   "name": "python",
   "nbconvert_exporter": "python",
   "pygments_lexer": "ipython3",
   "version": "3.10.2"
  }
 },
 "nbformat": 4,
 "nbformat_minor": 5
}
